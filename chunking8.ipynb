{
 "cells": [
  {
   "cell_type": "code",
   "execution_count": null,
   "id": "328e8c0c",
   "metadata": {},
   "outputs": [],
   "source": [
    "import nltk\n",
    "sentence = [(\"the\", \"DT\"),(\"book\", \"NN\"),(\"has\",\"VBZ\"),(\"many\",\"JJ\"),(\"chapters\",\"NNS\")]\n",
    "chunker = nltk.RegexpParser(r'''NP:\n",
    "{<DT><NN.*><.*>*<NN.*>}\n",
    "}<VB.*>{ \n",
    "''')\n",
    "chunker.parse(sentence)\n",
    "Output = chunker.parse(sentence)\n",
    "print(Output)"
   ]
  }
 ],
 "metadata": {
  "kernelspec": {
   "display_name": "Python 3 (ipykernel)",
   "language": "python",
   "name": "python3"
  },
  "language_info": {
   "codemirror_mode": {
    "name": "ipython",
    "version": 3
   },
   "file_extension": ".py",
   "mimetype": "text/x-python",
   "name": "python",
   "nbconvert_exporter": "python",
   "pygments_lexer": "ipython3",
   "version": "3.9.12"
  }
 },
 "nbformat": 4,
 "nbformat_minor": 5
}
