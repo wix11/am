{
 "cells": [
  {
   "cell_type": "code",
   "execution_count": null,
   "id": "e2ec5e33",
   "metadata": {},
   "outputs": [],
   "source": [
    "import nltk\n",
    "from nltk.sentiment.vader import SentimentIntensityAnalyzer\n",
    "\n",
    "def analyze_sentiment(review):\n",
    "    nltk.download('vader_lexicon')  # Download the VADER lexicon for sentiment analysis\n",
    "    sid = SentimentIntensityAnalyzer()\n",
    "    sentiment_scores = sid.polarity_scores(review)\n",
    "\n",
    "    if sentiment_scores['compound'] >= 0.05:\n",
    "        return \"Positive\"\n",
    "    elif sentiment_scores['compound'] <= -0.05:\n",
    "        return \"Negative\"\n",
    "    else:\n",
    "        return \"Neutral\"\n",
    "\n",
    "review = \"Overall experience of the movie was neutral\"\n",
    "result = analyze_sentiment(review)\n",
    "print(f\"Sentiment: {result}\")"
   ]
  }
 ],
 "metadata": {
  "kernelspec": {
   "display_name": "Python 3 (ipykernel)",
   "language": "python",
   "name": "python3"
  },
  "language_info": {
   "codemirror_mode": {
    "name": "ipython",
    "version": 3
   },
   "file_extension": ".py",
   "mimetype": "text/x-python",
   "name": "python",
   "nbconvert_exporter": "python",
   "pygments_lexer": "ipython3",
   "version": "3.9.12"
  }
 },
 "nbformat": 4,
 "nbformat_minor": 5
}
