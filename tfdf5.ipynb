{
 "cells": [
  {
   "cell_type": "code",
   "execution_count": 2,
   "id": "85f44884",
   "metadata": {},
   "outputs": [
    {
     "name": "stderr",
     "output_type": "stream",
     "text": [
      "C:\\Users\\YUVRAJ\\anaconda3\\lib\\site-packages\\sklearn\\utils\\deprecation.py:87: FutureWarning: Function get_feature_names is deprecated; get_feature_names is deprecated in 1.0 and will be removed in 1.2. Please use get_feature_names_out instead.\n",
      "  warnings.warn(msg, category=FutureWarning)\n"
     ]
    },
    {
     "data": {
      "text/html": [
       "<div>\n",
       "<style scoped>\n",
       "    .dataframe tbody tr th:only-of-type {\n",
       "        vertical-align: middle;\n",
       "    }\n",
       "\n",
       "    .dataframe tbody tr th {\n",
       "        vertical-align: top;\n",
       "    }\n",
       "\n",
       "    .dataframe thead th {\n",
       "        text-align: right;\n",
       "    }\n",
       "</style>\n",
       "<table border=\"1\" class=\"dataframe\">\n",
       "  <thead>\n",
       "    <tr style=\"text-align: right;\">\n",
       "      <th></th>\n",
       "      <th>chocolate</th>\n",
       "      <th>drinking</th>\n",
       "      <th>hate</th>\n",
       "      <th>juice</th>\n",
       "      <th>love</th>\n",
       "      <th>milkshake</th>\n",
       "      <th>shake</th>\n",
       "      <th>vegetable</th>\n",
       "    </tr>\n",
       "  </thead>\n",
       "  <tbody>\n",
       "    <tr>\n",
       "      <th>review1</th>\n",
       "      <td>1.405465</td>\n",
       "      <td>1.0</td>\n",
       "      <td>0.00000</td>\n",
       "      <td>0.00000</td>\n",
       "      <td>2.81093</td>\n",
       "      <td>1.405465</td>\n",
       "      <td>1.405465</td>\n",
       "      <td>0.000000</td>\n",
       "    </tr>\n",
       "    <tr>\n",
       "      <th>review2</th>\n",
       "      <td>0.000000</td>\n",
       "      <td>1.0</td>\n",
       "      <td>2.81093</td>\n",
       "      <td>2.81093</td>\n",
       "      <td>0.00000</td>\n",
       "      <td>0.000000</td>\n",
       "      <td>0.000000</td>\n",
       "      <td>1.405465</td>\n",
       "    </tr>\n",
       "  </tbody>\n",
       "</table>\n",
       "</div>"
      ],
      "text/plain": [
       "         chocolate  drinking     hate    juice     love  milkshake     shake  \\\n",
       "review1   1.405465       1.0  0.00000  0.00000  2.81093   1.405465  1.405465   \n",
       "review2   0.000000       1.0  2.81093  2.81093  0.00000   0.000000  0.000000   \n",
       "\n",
       "         vegetable  \n",
       "review1   0.000000  \n",
       "review2   1.405465  "
      ]
     },
     "execution_count": 2,
     "metadata": {},
     "output_type": "execute_result"
    }
   ],
   "source": [
    "import pandas as pd\n",
    "from sklearn.feature_extraction.text import TfidfVectorizer\n",
    "text = [\"I love to drinking milkshake. I love chocolate shake\",\"I hate vegetable juice. I hate drinking juice\"]\n",
    "df = pd.DataFrame({'review': ['review1', 'review2'], 'text':text})\n",
    "tfidf = TfidfVectorizer(stop_words='english', norm=None)\n",
    "tfidf_matrix = tfidf.fit_transform(df['text'])\n",
    "df_dtm = pd.DataFrame(tfidf_matrix.toarray(),\n",
    "                      index=df['review'].values,\n",
    "                      columns=tfidf.get_feature_names())\n",
    "df_dtm"
   ]
  },
  {
   "cell_type": "code",
   "execution_count": null,
   "id": "958ada4a",
   "metadata": {},
   "outputs": [],
   "source": []
  }
 ],
 "metadata": {
  "kernelspec": {
   "display_name": "Python 3 (ipykernel)",
   "language": "python",
   "name": "python3"
  },
  "language_info": {
   "codemirror_mode": {
    "name": "ipython",
    "version": 3
   },
   "file_extension": ".py",
   "mimetype": "text/x-python",
   "name": "python",
   "nbconvert_exporter": "python",
   "pygments_lexer": "ipython3",
   "version": "3.9.12"
  }
 },
 "nbformat": 4,
 "nbformat_minor": 5
}
